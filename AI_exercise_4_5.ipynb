{
  "nbformat": 4,
  "nbformat_minor": 0,
  "metadata": {
    "colab": {
      "provenance": [],
      "authorship_tag": "ABX9TyMogYwu6vBsYC1nldmCOx2R",
      "include_colab_link": true
    },
    "kernelspec": {
      "name": "python3",
      "display_name": "Python 3"
    },
    "language_info": {
      "name": "python"
    }
  },
  "cells": [
    {
      "cell_type": "markdown",
      "metadata": {
        "id": "view-in-github",
        "colab_type": "text"
      },
      "source": [
        "<a href=\"https://colab.research.google.com/github/Nithya9404/Artificial_Intelligence/blob/main/AI_exercise_4_5.ipynb\" target=\"_parent\"><img src=\"https://colab.research.google.com/assets/colab-badge.svg\" alt=\"Open In Colab\"/></a>"
      ]
    },
    {
      "cell_type": "code",
      "execution_count": null,
      "metadata": {
        "colab": {
          "base_uri": "https://localhost:8080/"
        },
        "id": "XBBVxmVwOc9n",
        "outputId": "4771e537-4138-43de-ac44-c84addb040df"
      },
      "outputs": [
        {
          "output_type": "stream",
          "name": "stdout",
          "text": [
            "Solution Exists: Following are the assigned colors \n",
            "1 1 2 1 "
          ]
        }
      ],
      "source": [
        "#exercise 4\n",
        "# map coloring\n",
        "# Python3 program for the above approach\n",
        "def isSafe(graph, color):\n",
        "\t# check for every edge\n",
        "\tfor i in range(4):\n",
        "\t\tfor j in range(i + 1, 4):\n",
        "\t\t\tif (graph[i][j] and color[j] == color[i]):\n",
        "\t\t\t\treturn False\n",
        "\treturn True\n",
        "def graphColoring(graph, m, i, color):\n",
        "\t# if current index reached end\n",
        "\tif (i == 4):\n",
        "\t\tif (isSafe(graph, color)):\n",
        "\t\t\tprintSolution(color)\n",
        "\t\t\treturn True\n",
        "\t\treturn False\n",
        "\tfor j in range(1, m + 1):\n",
        "\t\tcolor[i] = j\n",
        "\t\tif (graphColoring(graph, m, i + 1, color)):\n",
        "\t\t\treturn True\n",
        "\t\tcolor[i] = 0\n",
        "\treturn False\n",
        "def printSolution(color):\n",
        "\tprint(\"Solution Exists:\" \" Following are the assigned colors \")\n",
        "\tfor i in range(4):\n",
        "\t\tprint(color[i], end=\" \")\n",
        "\n",
        "# Driver code\n",
        "graph = [\n",
        "\t\t[1, 0, 1, 0],\n",
        "\t\t[1, 1, 1, 0],\n",
        "\t\t[1, 0, 0, 1],\n",
        "\t\t[1, 0, 1, 1],\n",
        "\t]\n",
        "m = 3 # Number of colors\n",
        "color = [0 for i in range(4)]\n",
        "if (not graphColoring(graph, m, 0, color)):\n",
        "\t\tprint(\"Solution does not exist\")\n",
        "\n"
      ]
    },
    {
      "cell_type": "code",
      "source": [
        "#exercise 5\n",
        "\n",
        "!pip install kanren\n",
        "!pip install sympy"
      ],
      "metadata": {
        "id": "eE1ufRQgU3f8",
        "colab": {
          "base_uri": "https://localhost:8080/"
        },
        "outputId": "e74d2845-a0f2-40f2-c8b9-2cfcb7845cab"
      },
      "execution_count": null,
      "outputs": [
        {
          "output_type": "stream",
          "name": "stdout",
          "text": [
            "Looking in indexes: https://pypi.org/simple, https://us-python.pkg.dev/colab-wheels/public/simple/\n",
            "Requirement already satisfied: kanren in /usr/local/lib/python3.7/dist-packages (0.2.3)\n",
            "Requirement already satisfied: unification in /usr/local/lib/python3.7/dist-packages (from kanren) (0.2.2)\n",
            "Requirement already satisfied: multipledispatch in /usr/local/lib/python3.7/dist-packages (from kanren) (0.6.0)\n",
            "Requirement already satisfied: toolz in /usr/local/lib/python3.7/dist-packages (from kanren) (0.12.0)\n",
            "Requirement already satisfied: six in /usr/local/lib/python3.7/dist-packages (from multipledispatch->kanren) (1.15.0)\n",
            "Looking in indexes: https://pypi.org/simple, https://us-python.pkg.dev/colab-wheels/public/simple/\n",
            "Requirement already satisfied: sympy in /usr/local/lib/python3.7/dist-packages (1.7.1)\n",
            "Requirement already satisfied: mpmath>=0.19 in /usr/local/lib/python3.7/dist-packages (from sympy) (1.2.1)\n"
          ]
        }
      ]
    },
    {
      "cell_type": "code",
      "source": [
        "from kanren import run, var, fact\n",
        "from kanren.assoccomm import eq_assoccomm as eq\n",
        "from kanren.assoccomm import commutative, associative\n",
        "\n",
        "# Define values that will undertake the addition and multiplication operations\n",
        "addition = 'add'\n",
        "multiplication = 'mul'\n",
        "\n",
        "# Define facts and properties of each operation\n",
        "fact(commutative, multiplication)\n",
        "fact(commutative, addition)\n",
        "fact(associative, multiplication)\n",
        "fact(associative, addition)\n",
        "\n",
        "# Declare the variables that are going to form the expression\n",
        "var_x, var_y, var_z = var('var_x'), var('var_y'), var('var_z')\n",
        "\n",
        "# Build the correct pattern that the program needs to learn\n",
        "match_pattern = (addition, (multiplication, 4, var_x, var_y), var_y, (multiplication, 6, var_z))\n",
        "match_pattern = (addition, (multiplication, 3, 4), (multiplication, (addition, 1, (multiplication, 2, 4)),2))\n",
        "\n",
        "\n",
        "# Build 3 distinct expressions to test if the function has learnt\n",
        "test_expression_one = (addition, (multiplication, (addition, 1 , (multiplication, 2, var_x )), var_y) ,(multiplication, 3, var_z ))\n",
        "test_expression_two = (addition, (multiplication, var_z, 8), (multiplication, var_y, (addition, (multiplication, 2, var_x), 1)))\n",
        "test_expression_three = (addition  , (addition, (multiplication, (multiplication, 2, var_x), var_y), var_y), (multiplication, 8, var_z))"
      ],
      "metadata": {
        "id": "UwuTTZiHDWQX"
      },
      "execution_count": null,
      "outputs": []
    },
    {
      "cell_type": "code",
      "source": [
        "run(0,(var_x,var_y,var_z),eq(test_expression_one,match_pattern))"
      ],
      "metadata": {
        "colab": {
          "base_uri": "https://localhost:8080/"
        },
        "id": "VN28QxaQECnH",
        "outputId": "c90b1e61-321a-4f2f-8bd3-64351369f9b5"
      },
      "execution_count": null,
      "outputs": [
        {
          "output_type": "execute_result",
          "data": {
            "text/plain": [
              "()"
            ]
          },
          "metadata": {},
          "execution_count": 28
        }
      ]
    },
    {
      "cell_type": "code",
      "source": [
        "print(run(0,(var_x,var_y,var_z),eq(test_expression_three,match_pattern)))"
      ],
      "metadata": {
        "colab": {
          "base_uri": "https://localhost:8080/"
        },
        "id": "TlnXG6dvEHN_",
        "outputId": "99c59605-cac2-4801-88bc-eea0db374ca5"
      },
      "execution_count": null,
      "outputs": [
        {
          "output_type": "stream",
          "name": "stdout",
          "text": [
            "()\n"
          ]
        }
      ]
    },
    {
      "cell_type": "code",
      "source": [
        "import math\n",
        "import sympy\n",
        "\n",
        "print (math.sqrt(8))"
      ],
      "metadata": {
        "colab": {
          "base_uri": "https://localhost:8080/"
        },
        "id": "JUDcVKMJELiX",
        "outputId": "2ccc7878-d9cf-4232-89eb-2107ecdd7577"
      },
      "execution_count": null,
      "outputs": [
        {
          "output_type": "stream",
          "name": "stdout",
          "text": [
            "2.8284271247461903\n"
          ]
        }
      ]
    },
    {
      "cell_type": "code",
      "source": [
        "print (sympy.sqrt(3))"
      ],
      "metadata": {
        "colab": {
          "base_uri": "https://localhost:8080/"
        },
        "id": "1RDfZXmOEP-H",
        "outputId": "888d96af-7d42-4684-ccce-2a623a3e8c8a"
      },
      "execution_count": null,
      "outputs": [
        {
          "output_type": "stream",
          "name": "stdout",
          "text": [
            "sqrt(3)\n"
          ]
        }
      ]
    },
    {
      "cell_type": "code",
      "source": [
        "from kanren import membero, isvar, run\n",
        "from kanren.core import goaleval, condeseq, success, fail, eq, var\n",
        "from sympy.ntheory.generate import isprime, prime\n",
        "import itertools as iter_one\n",
        "\n",
        "# Defining a function to build the expression\n",
        "def exp_prime (input_num):\n",
        "  if isvar(input_num):\n",
        "    return condeseq([(eq, input_num, x)] for x in map(prime, iter_one.count(1)))\n",
        "  else:\n",
        "      return success if isprime (input_num) else fail"
      ],
      "metadata": {
        "id": "gHxX4rw7EVsf"
      },
      "execution_count": null,
      "outputs": []
    },
    {
      "cell_type": "code",
      "source": [
        "n_test = var()\n",
        "set(run(0, n_test,(membero, n_test,(12,14,15,19,21,20,22,29,23,30,41,44,62,52,65,85)),( exp_prime, n_test)))"
      ],
      "metadata": {
        "colab": {
          "base_uri": "https://localhost:8080/"
        },
        "id": "T1ddwl05EXPn",
        "outputId": "90eccfac-7d9c-4e9c-87e9-9b622e2421b9"
      },
      "execution_count": null,
      "outputs": [
        {
          "output_type": "execute_result",
          "data": {
            "text/plain": [
              "{19, 23, 29, 41}"
            ]
          },
          "metadata": {},
          "execution_count": 11
        }
      ]
    },
    {
      "cell_type": "code",
      "source": [
        "run(7, n_test, exp_prime( n_test ) )"
      ],
      "metadata": {
        "colab": {
          "base_uri": "https://localhost:8080/"
        },
        "id": "_mhzyofFEaqv",
        "outputId": "bf2ea6df-5699-47b6-884f-e6e12611eb7d"
      },
      "execution_count": null,
      "outputs": [
        {
          "output_type": "execute_result",
          "data": {
            "text/plain": [
              "(2, 3, 5, 7, 11, 13, 17)"
            ]
          },
          "metadata": {},
          "execution_count": 12
        }
      ]
    }
  ]
}