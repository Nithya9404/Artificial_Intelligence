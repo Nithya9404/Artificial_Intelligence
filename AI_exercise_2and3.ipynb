{
  "nbformat": 4,
  "nbformat_minor": 0,
  "metadata": {
    "colab": {
      "provenance": [],
      "authorship_tag": "ABX9TyOfO4StavZXfKtwcAJ9np1N",
      "include_colab_link": true
    },
    "kernelspec": {
      "name": "python3",
      "display_name": "Python 3"
    },
    "language_info": {
      "name": "python"
    }
  },
  "cells": [
    {
      "cell_type": "markdown",
      "metadata": {
        "id": "view-in-github",
        "colab_type": "text"
      },
      "source": [
        "<a href=\"https://colab.research.google.com/github/Nithya9404/Artificial_Intelligence/blob/main/AI_exercise_2and3.ipynb\" target=\"_parent\"><img src=\"https://colab.research.google.com/assets/colab-badge.svg\" alt=\"Open In Colab\"/></a>"
      ]
    },
    {
      "cell_type": "code",
      "execution_count": null,
      "metadata": {
        "colab": {
          "base_uri": "https://localhost:8080/"
        },
        "id": "SRghoZ3m-iaw",
        "outputId": "39528519-ca04-46bc-a3fc-0bc36407d0d3"
      },
      "outputs": [
        {
          "output_type": "stream",
          "name": "stdout",
          "text": [
            "Path found: ['A', 'F', 'H']\n"
          ]
        },
        {
          "output_type": "execute_result",
          "data": {
            "text/plain": [
              "['A', 'F', 'H']"
            ]
          },
          "metadata": {},
          "execution_count": 4
        }
      ],
      "source": [
        "#exercise 2 : A* search\n",
        "def aStarAlgo(start_node, stop_node):\n",
        "    open_set = set(start_node)\n",
        "    closed_set = set()\n",
        "    g = {}               #store distance from starting node\n",
        "    parents = {}         # parents contains an adjacency map of all nodes\n",
        "    g[start_node] = 0\n",
        "    parents[start_node] = start_node\n",
        "    while len(open_set) > 0:\n",
        "        n = None\n",
        "        for v in open_set:\n",
        "            if n == None or g[v] + heuristic(v) < g[n] + heuristic(n):\n",
        "                n = v\n",
        "        if n == stop_node or Graph_nodes[n] == None:\n",
        "            pass\n",
        "        else:\n",
        "            for (m, weight) in get_neighbors(n):\n",
        "                if m not in open_set and m not in closed_set:\n",
        "                    open_set.add(m)\n",
        "                    parents[m] = n\n",
        "                    g[m] = g[n] + weight\n",
        "                else:\n",
        "                    if g[m] > g[n] + weight:\n",
        "                        #update g(m)\n",
        "                        g[m] = g[n] + weight\n",
        "                        #change parent of m to n\n",
        "                        parents[m] = n\n",
        "                        #if m in closed set,remove and add to open\n",
        "                        if m in closed_set:\n",
        "                            closed_set.remove(m)\n",
        "                            open_set.add(m)\n",
        "        if n == None:\n",
        "            print('Path does not exist!')\n",
        "            return None\n",
        "        if n == stop_node:\n",
        "            path = []\n",
        "            while parents[n] != n:\n",
        "                path.append(n)\n",
        "                n = parents[n]\n",
        "            path.append(start_node)\n",
        "            path.reverse()\n",
        "            print('Path found: {}'.format(path))\n",
        "            return path\n",
        "        open_set.remove(n)\n",
        "        closed_set.add(n)\n",
        "    print('Path does not exist!')\n",
        "    return None\n",
        "def get_neighbors(v):\n",
        "    if v in Graph_nodes:\n",
        "        return Graph_nodes[v]\n",
        "    else:\n",
        "        return None\n",
        "def heuristic(n):\n",
        "    H_dist = {\n",
        "        'A': 10,\n",
        "        'B': 6,\n",
        "        'C': 5,\n",
        "        'D': 6,\n",
        "        'E': 3,\n",
        "        'F': 2,\n",
        "        'G': 9,\n",
        "        'H': 3,\n",
        "        'I': 2,\n",
        "        'J': 9\n",
        "    }\n",
        "    return H_dist[n]\n",
        "Graph_nodes = {\n",
        "    'A': [('B', 6), ('F', 3)],\n",
        "    'B': [('A', 2), ('C', 0), ('D', 2)],\n",
        "    'C': [('B', 3), ('D', 1), ('E', 5)],\n",
        "    'D': [('B', 2), ('C', 1), ('E', 8)],\n",
        "    'E': [('C', 5), ('D', 6), ('I', 5), ('J', 5)],\n",
        "    'F': [('A', 2), ('G', 1), ('H', 7)],\n",
        "    'G': [('F', 1), ('I', 9)],\n",
        "    'H': [('F', 7), ('I', 2)],\n",
        "    'I': [('E', 5), ('G', 3), ('H', 2), ('J', 3)],\n",
        "}\n",
        "aStarAlgo('A', 'H')\n"
      ]
    },
    {
      "cell_type": "code",
      "source": [
        "#exercise 3 minmax algorithm\n",
        "MAX, MIN = 1000, -1000\n",
        "def minimax(depth, nodeIndex, maximizingPlayer,\n",
        "\t\t\tvalues, alpha, beta):\n",
        "\tif depth == 3:\n",
        "\t\treturn values[nodeIndex]\n",
        "\tif maximizingPlayer:\n",
        "\t\tbest = MIN\n",
        "\t\tfor i in range(0, 2):\n",
        "\t\t\tval = minimax(depth + 1, nodeIndex * 2 + i,\n",
        "\t\t\t\t\t\tFalse, values, alpha, beta)\n",
        "\t\t\tbest = max(best, val)\n",
        "\t\t\talpha = max(alpha, best)\n",
        "\t\t\t# Alpha Beta Pruning\n",
        "\t\t\tif beta <= alpha:\n",
        "\t\t\t\tbreak\n",
        "\t\treturn best\n",
        "\telse:\n",
        "\t\tbest = MAX\n",
        "\t\tfor i in range(0, 2):\n",
        "\t\t\tval = minimax(depth + 1, nodeIndex * 2 + i,\n",
        "\t\t\t\t\t\t\tTrue, values, alpha, beta)\n",
        "\t\t\tbest = min(best, val)\n",
        "\t\t\tbeta = min(beta, best)\n",
        "\t\t\t# Alpha Beta Pruning\n",
        "\t\t\tif beta <= alpha:\n",
        "\t\t\t\tbreak\n",
        "\t\treturn best\n",
        "\n",
        "# Driver Code\n",
        "values = [3, 9, 2, 0, 1, 2, 0, 4]\n",
        "print(\"The optimal value is :\", minimax(0, 0, True, values, MIN, MAX))\n"
      ],
      "metadata": {
        "colab": {
          "base_uri": "https://localhost:8080/"
        },
        "id": "nDwURlHKCAJ3",
        "outputId": "ed979464-4051-496b-a18b-62d752b21fa9"
      },
      "execution_count": null,
      "outputs": [
        {
          "output_type": "stream",
          "name": "stdout",
          "text": [
            "The optimal value is : 2\n"
          ]
        }
      ]
    }
  ]
}